{
 "cells": [
  {
   "cell_type": "markdown",
   "metadata": {},
   "source": [
    "# Preparing for the practical session\n",
    "\n",
    "## Connecting to the VMs"
   ]
  },
  {
   "cell_type": "markdown",
   "metadata": {},
   "source": [
    "### Windows Users\n",
    "\n",
    "You need to use [Putty](https://www.chiark.greenend.org.uk/~sgtatham/putty/latest.html) to connect to the server. You should have already installed and tested this during the first day of the summer school."
   ]
  },
  {
   "cell_type": "markdown",
   "metadata": {},
   "source": [
    "### Linux / Mac Users\n",
    "You can use the preinstalled terminal that exist in your system"
   ]
  },
  {
   "cell_type": "markdown",
   "metadata": {},
   "source": [
    "## Activate the Anaconda Python Environment\n",
    "\n",
    "The [Anaconda Scientific Python Distribution](https://www.continuum.io/downloads) is a really convenient tool, to install, manage, and use scientific python packages. It allows you to install a complete distribution, under a user directory, without conflicting with system packages. This also allows to have the latest version of Python, to older servers.\n",
    "\n",
    "Anaconda is already installed in your systems, both in version 2 and 3.\n",
    "\n",
    "For this workshop we'll use version 3."
   ]
  },
  {
   "cell_type": "markdown",
   "metadata": {},
   "source": [
    "### Activating / Deactivating your Anaconda environment\n",
    "\n",
    "Before we activate Anaconda, first let's check the current version of Python with `python --version`. The output should be similar to:\n",
    "\n",
    "````\n",
    "[cloud@sstestauto ~]$ python --version\n",
    "Python 2.7.5\n",
    "````\n",
    "\n",
    "To activate your Anaconda environment, issue the following command on your VM.\n",
    "\n",
    "````\n",
    "source anaconda3/bin/activate\n",
    "````\n",
    "\n",
    "If you check again the python version you should get the following result:\n",
    "\n",
    "```` \n",
    "(root) [cloud@sstestauto ~]$ python --version\n",
    "Python 3.6.1 :: Anaconda 4.4.0 (64-bit)\n",
    "````\n",
    "\n",
    "#### NOTE: For this and the following workshops, it is assumed that you have activated the environment"
   ]
  },
  {
   "cell_type": "markdown",
   "metadata": {},
   "source": [
    "## Starting the Jupyter Notebook\n",
    "\n",
    "You'll need to execute the following commands on your VM.\n",
    "\n",
    "- Generate Notebook configuration \n",
    "\n",
    "  ````\n",
    "  jupyter-notebook --generate-config\n",
    "  ````\n",
    "\n",
    "- Set up notebook password <a name='password'></a>\n",
    "\n",
    "  ````\n",
    "  jupyter-notebook password\n",
    "  ````\n",
    "  \n",
    "  This is the password that you'll use to connect to the notebook. \n",
    "  \n",
    "- Start the notebook in a \"no-browser\" session\n",
    "\n",
    "  ````\n",
    "  jupyter-notebook --no-browser --port=8889\n",
    "  ````"
   ]
  },
  {
   "cell_type": "markdown",
   "metadata": {},
   "source": [
    "## Creating an ssh tunnel\n",
    "\n",
    "To connect to the notebook that runs on a remote server, we could:\n",
    "\n",
    "1. Remove the security restrions imposed by Jupyter, and connect through http\n",
    "  - Bad Practice\n",
    "2. Deplot an ssl certificated to the server\n",
    "  - Best Practice, however too time consuming for ephemeral servers. (Interested people could take a look [here](https://jupyter-notebook.readthedocs.io/en/latest/public_server.html#running-a-public-notebook-server))\n",
    "3. Start the server normally in the VM and forward the port through ssh\n",
    "  - This is what we'll do"
   ]
  },
  {
   "cell_type": "markdown",
   "metadata": {},
   "source": [
    "### Windows Users\n",
    "\n",
    "1. Open a new Putty window\n",
    "\n",
    "2. Go to the SSH -> Tunnels\n",
    "  - Source port: 8888\n",
    "  - Destination: localhost:8889\n",
    "  \n",
    "  ![Pytty_01](../images/img_putty_01.png)\n",
    "  \n",
    "  - **IMPORTANT Press ADD** to add the tunneling. It will not work, without it.\n",
    "  \n",
    "3. Then at the session tab, fill again the IP of your server as before\n",
    "\n",
    "  ![Pytty_01](../images/img_putty_02.png)\n",
    " "
   ]
  },
  {
   "cell_type": "markdown",
   "metadata": {},
   "source": [
    "### Linux / Mac Users\n",
    "\n",
    "Open a new terminal window and execute the following command, replacing `<IP>` with the IP of your server. \n",
    "\n",
    "````\n",
    "ssh -N -L localhost:50000:localhost:8889 cloud@<IP>\n",
    "````\n",
    "\n",
    "The command will not return, and keep running. To stop it you can issue a **`CTRL+C`**.\n",
    "\n",
    "Alternatively you could also:\n",
    "- Add the `-f` flag, for the command to go to background. You can utilize the terminal, but it is easy to forget that you started it later.\n",
    "- Remove the `-N` flag. This will allow you to use a terminal in the remote machine\n"
   ]
  },
  {
   "cell_type": "markdown",
   "metadata": {},
   "source": [
    "## Connecting to the Notebook\n",
    "\n",
    "Now you should be able to go to `http://localhost:<port>` and connect to your notebook. You need to replace `<port>` with the numbe of the source port, that you used earlier for the ssh tunneling\n",
    "- Windows users: 8888: http://localhost:8888\n",
    "- Mac Users: 50000: http://localhost:50000\n",
    "\n",
    "You would be asked to provide the password that you created at a [previous step](#password).\n",
    "\n",
    "You should be seeing something similar to this:\n",
    "\n",
    "![this](../images/img_jupyter_start.png)"
   ]
  },
  {
   "cell_type": "markdown",
   "metadata": {},
   "source": [
    "## Follow along the Demonstration\n",
    "\n",
    "To follow along the demonstration:\n",
    "- go to the directory: `reproducible_research`\n",
    "- Now you can open the notebook `01_navigation.ipynb` and follow along."
   ]
  }
 ],
 "metadata": {
  "kernelspec": {
   "display_name": "Python 3",
   "language": "python",
   "name": "python3"
  },
  "language_info": {
   "codemirror_mode": {
    "name": "ipython",
    "version": 3
   },
   "file_extension": ".py",
   "mimetype": "text/x-python",
   "name": "python",
   "nbconvert_exporter": "python",
   "pygments_lexer": "ipython3",
   "version": "3.6.1"
  }
 },
 "nbformat": 4,
 "nbformat_minor": 2
}
